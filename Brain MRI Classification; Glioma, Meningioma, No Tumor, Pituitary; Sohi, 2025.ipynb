{
 "cells": [
  {
   "cell_type": "markdown",
   "id": "089cc52d",
   "metadata": {},
   "source": [
    "# Introduction:\n",
    "\n",
    "\n",
    "## What is a Brain Tumor?  \n",
    "A brain tumor is a **growth of cells in the brain or near it**, as described by the **Mayo Clinic** ([source](https://www.mayoclinic.org/diseases-conditions/brain-tumor/symptoms-causes/syc-20350084)). Brain tumors can develop in brain tissue or in nearby locations, including the nerves, the pituitary gland, the pineal gland, and the membranes covering the surface of the brain.  \n",
    "\n",
    "Brain tumors are categorized as primary brain tumors, which originate in the brain, or secondary brain tumors, which occur when cancer spreads to the brain from other parts of the body (metastatic brain tumors).  \n",
    "\n",
    "Primary brain tumors can be either:  \n",
    "- Noncancerous (benign): These may grow over time and press on the brain tissue.  \n",
    "- Cancerous (malignant): These grow more quickly, and their cancer cells can invade and destroy brain tissue.  \n",
    "\n",
    "The size and impact of a brain tumor can vary significantly. Some tumors cause immediate symptoms and are found early, while others may grow large before being detected. Treatments depend on the type, size, and location of the tumor, with common approaches including surgery and radiation therapy.\n",
    "\n",
    "\n",
    "---\n",
    "\n",
    "## Current Medical Attitudes About AI in Medicine\n",
    "\n",
    "AI is increasingly being recognized for its potential in transforming health care. The **2024 AMA survey** ([source](https://www.ama-assn.org/practice-management/digital/big-majority-doctors-see-upsides-using-health-care-ai)) gathered responses from **1,081 physicians**, divided into two groups: 524 \"tech adopters\" and 556 \"tech averse\" respondents. Despite varying levels of comfort with technology, physicians identified key areas where AI could be most beneficial in healthcare:\n",
    "\n",
    "- **Diagnostic ability:** 72% of respondents believe AI can enhance diagnostic accuracy.  \n",
    "- **Work efficiency:** 69% see AI as a tool for streamlining workflows and reducing administrative burdens.  \n",
    "- **Clinical outcomes:** 61% think AI could improve patient outcomes by supporting better decision-making.  \n",
    "\n",
    "Additionally, 56% of physicians highlighted AI’s potential to improve care coordination, patient convenience, and patient safety.  \n",
    "\n",
    "However, physicians also expressed guarded enthusiasm. While 41% of respondents reported being equally excited and concerned about AI, key concerns include:  \n",
    "\n",
    "- Potential impacts on the patient-physician relationship  \n",
    "- Risks to patient privacy \n",
    "- Over-reliance on AI overriding clinical judgment  \n",
    "\n",
    "### Transparency and Trust\n",
    "Physicians emphasized the importance of transparency and ethical AI use. This includes ensuring that:  \n",
    "- Patients are aware when AI is used in their care.  \n",
    "- Automated systems do not withhold necessary treatments or reduce access to care.  \n",
    "- AI tools are designed with equity in mind, avoiding systematic biases against specific groups.  \n",
    "\n",
    "AMA President Jesse Ehrenfeld, MD, MPH, noted the critical need for human intervention points in AI decision-making and called for consistent regulatory guidance and post-market surveillance of AI technologies to ensure continued safety and performance.\n",
    "\n",
    "### Enthusiasm for AI Applications\n",
    "Surveyed physicians identified several areas where AI can be particularly helpful, such as:  \n",
    "- Automating documentation of billing codes and visit notes (54%)  \n",
    "- Streamlining insurance prior authorization (48%)  \n",
    "- Generating discharge instructions and care plans (43%)  \n",
    "\n",
    "AI adoption in medicine requires balancing the potential for innovation with safeguards to maintain trust, equity, and patient-centered care.\n",
    "\n",
    "---\n",
    "\n",
    "## About the Dataset\n",
    "\n",
    "The dataset used for this project is the **Brain Tumor MRI Dataset** created by Masoud Nickparvar ([source](https://www.mayoclinic.org/diseases-conditions/brain-tumor/symptoms-causes/syc-20350084)), which is publicly available on Kaggle. \n",
    "\n",
    "The dataset is a combination of three sources:  \n",
    "- **figshare**\n",
    "- **SARTAJ dataset**\n",
    "- **Br35H**\n",
    "\n",
    "\n",
    "This dataset is specifically designed for the classification of brain tumors and contains 7,023 MRI images categorized into four classes:\n",
    "\n",
    "1. **Glioma Tumor**  \n",
    "2. **Meningioma Tumor**  \n",
    "3. **No Tumor**  \n",
    "4. **Pituitary Tumor**\n",
    "\n",
    "The dataset provides MRI images of varying sizes, which require preprocessing (e.g., resizing) to improve model performance.\n",
    "\n",
    "### Original Dataset Statistics\n",
    "The dataset was originally split into separate **training** and **testing** datasets:  \n",
    "- **Training Dataset:**\n",
    "  - Glioma Tumor: 1321 images  \n",
    "  - Meningioma Tumor: 1339 images  \n",
    "  - No Tumor: 1595 images  \n",
    "  - Pituitary Tumor: 1457 images  \n",
    "\n",
    "- **Testing Dataset:**\n",
    "  - Glioma Tumor: 300 images  \n",
    "  - Meningioma Tumor: 306 images  \n",
    "  - No Tumor: 405 images  \n",
    "  - Pituitary Tumor: 300 images  \n",
    "\n",
    "### Adjustments for the Project\n",
    "For this project, an **additional testing dataset** was created called \"Testing Final\" to evaluate the best-performing model and determine how well it performs on unseen data, simulating real-world conditions. This was achieved by randomly sampling 200 images from each category in the original training dataset, resulting in a balanced testing dataset of 800 images. To avoid confusion, the original provided testing dataset was renamed as \"Validation dataset.\"\n",
    "\n",
    "This adjustment modified the original train/test split from approximately 90%/10% to a new split of 80%/20%, ensuring a comprehensive evaluation of the model on data it has never encountered before.\n",
    "\n",
    "After the adjustments, the updated dataset statistics are as follows:\n",
    "\n",
    "- **Training Dataset:**\n",
    "  - Glioma Tumor: 1121 images  \n",
    "  - Meningioma Tumor: 1139 images  \n",
    "  - No Tumor: 1395 images  \n",
    "  - Pituitary Tumor: 1257 images  \n",
    "\n",
    "- **Validation Dataset:**\n",
    "  - Glioma Tumor: 300 images  \n",
    "  - Meningioma Tumor: 306 images  \n",
    "  - No Tumor: 405 images  \n",
    "  - Pituitary Tumor: 300 images  \n",
    "\n",
    "- **Testing Dataset:**\n",
    "  - Glioma Tumor: 200 images  \n",
    "  - Meningioma Tumor: 200 images  \n",
    "  - No Tumor: 200 images  \n",
    "  - Pituitary Tumor: 200 images  \n",
    "\n",
    "## Purpose of This Project\n",
    "\n",
    "The purpose of this project is to advance the application of machine learning in real-world medical imaging scenarios, specifically using Convolutional Neural Networks (CNNs) to classify brain tumors. By working on this project, I aim to hone my technical skills in image classification while contributing to the growing field of AI in medicine. \n"
   ]
  },
  {
   "cell_type": "markdown",
   "id": "45707c2b",
   "metadata": {},
   "source": [
    "## Author and Last Updated\n",
    "\n",
    "**Author:** Manreet Sohi  \n",
    "**Last Updated:** January 2025\n",
    "\n",
    "---"
   ]
  },
  {
   "cell_type": "markdown",
   "id": "8b40a177",
   "metadata": {},
   "source": [
    "# Set up: "
   ]
  },
  {
   "cell_type": "markdown",
   "id": "7a8dd1ca",
   "metadata": {},
   "source": [
    "## Load libraries: "
   ]
  },
  {
   "cell_type": "code",
   "execution_count": 2,
   "id": "cb38ec81",
   "metadata": {},
   "outputs": [],
   "source": [
    "import os\n",
    "import numpy as np\n",
    "import matplotlib.pyplot as plt\n",
    "from tensorflow.keras.preprocessing.image import ImageDataGenerator\n",
    "from tensorflow.keras.models import Sequential\n",
    "from tensorflow.keras.layers import Conv2D, MaxPooling2D, Flatten, Dense, Dropout\n",
    "from tensorflow.keras.optimizers import Adam\n",
    "from tensorflow.keras.callbacks import EarlyStopping, ModelCheckpoint\n",
    "from sklearn.metrics import classification_report, confusion_matrix\n",
    "from sklearn.metrics import precision_score, recall_score, f1_score\n",
    "import seaborn as sns\n",
    "import matplotlib.pyplot as plt\n",
    "import tensorflow as ts"
   ]
  },
  {
   "cell_type": "markdown",
   "id": "10e26c44",
   "metadata": {},
   "source": [
    "## Load the directories where the datasets are located. \n",
    "\n",
    "The training dataset is used to teach the model. The model learns patterns in the data and updates its internal parameters to minimize prediction errors.<br>\n",
    "\n",
    "The validation dataset is what the model will use to evaluate the model's performance after each training cycle.\n",
    "It helps assess how well the model is learning and guides adjustments by calculating validation loss.<br>\n",
    "\n",
    "The test dataset is what at the very end will analyze the performance of the best chosen model. It provides a final evaluation of the model's performance, ensuring it generalizes well to unseen data.\n",
    "It helps analyze how the best model performs in real-world scenarios. <br>"
   ]
  },
  {
   "cell_type": "code",
   "execution_count": 3,
   "id": "dd21c3bd",
   "metadata": {},
   "outputs": [],
   "source": [
    "# Define directory paths:\n",
    "train_dir = 'Training'\n",
    "valid_dir = 'Validation'\n",
    "test_dir = 'Testing_final'"
   ]
  },
  {
   "cell_type": "markdown",
   "id": "e0d87ef3",
   "metadata": {},
   "source": [
    "## Data Augmentation.\n",
    "Normalize the pixel values to scale them from $[0, 255]$ down to the range $[0, 1]$. This helps the model train more efficiently by ensuring the input data is consistent and within a smaller, manageable range. It prevents large pixel values from overwhelming the learning process and improves the stability and speed of optimization during training."
   ]
  },
  {
   "cell_type": "code",
   "execution_count": 4,
   "id": "f0cd8a8f",
   "metadata": {},
   "outputs": [],
   "source": [
    "# Data augmentation and preprocessing\n",
    "train_datagen = ImageDataGenerator(rescale=1.0/255)  # Normalize pixel values to [0, 1]\n",
    "\n",
    "valid_datagen = ImageDataGenerator(rescale=1.0/255) # Normalize pixel values to [0, 1]\n",
    "\n",
    "test_datagen = ImageDataGenerator(rescale=1.0/255) # Normalize pixel values to [0, 1]"
   ]
  },
  {
   "cell_type": "markdown",
   "id": "c0c006a2",
   "metadata": {},
   "source": [
    "## Preprocess Data\n",
    "Resize the training, validation and testing images to $250 \\times 250$ pixels  for consistency since the images vary in size and group them into batches of 32. \n",
    "\n",
    "With `batches = 32`, the model processes 32 images (meaning 1 batch) at a time during training. After going through all 32 images in the batch, it computes the loss for that batch by comparing the predictions to the true labels. Then, it uses backpropagation to calculate the gradients of the loss with respect to the model's weights and updates those weights using the optimizer. This process repeats for each batch until the entire dataset has been processed (one epoch).\n",
    "\n",
    "The `class_mode='categorical'` specifies that the labels are one-hot encoded for multi-class classification, and the `shuffle=False` in the test data ensures the order is preserved for consistent evaluation."
   ]
  },
  {
   "cell_type": "code",
   "execution_count": 5,
   "id": "b590df91",
   "metadata": {},
   "outputs": [
    {
     "name": "stdout",
     "output_type": "stream",
     "text": [
      "Found 4912 images belonging to 4 classes.\n",
      "Found 1311 images belonging to 4 classes.\n",
      "Found 800 images belonging to 4 classes.\n"
     ]
    }
   ],
   "source": [
    "train_data = train_datagen.flow_from_directory(\n",
    "    train_dir,\n",
    "    target_size=(250, 250),\n",
    "    batch_size=32,\n",
    "    class_mode='categorical'\n",
    ")\n",
    "\n",
    "valid_data = valid_datagen.flow_from_directory(\n",
    "    valid_dir,\n",
    "    target_size=(250, 250),\n",
    "    batch_size=32,\n",
    "    class_mode='categorical'\n",
    ")\n",
    "\n",
    "test_data = test_datagen.flow_from_directory(\n",
    "    test_dir,\n",
    "    target_size=(250, 250),\n",
    "    batch_size=32,\n",
    "    class_mode='categorical',\n",
    "    shuffle=False  # Important to preserve order for evaluation\n",
    ")"
   ]
  },
  {
   "cell_type": "markdown",
   "id": "2227b717",
   "metadata": {},
   "source": [
    "# Layer and Structure the CNN Model"
   ]
  },
  {
   "cell_type": "markdown",
   "id": "7210ef5d",
   "metadata": {},
   "source": [
    "Sequential is a model architecture in Keras that allows us to build a neural network layer by layer. This lets us customize how many layers of convolution and pooling we want, as well as how many dense layers to include.\n",
    "\n",
    "## Convolution Layers (`Conv2D` + `MaxPooling2D`)\n",
    "\n",
    "Since we defined `target_size = (250, 250)`, the input image dimensions are $250 \\times 250$. For non-grayscale images, the depth is 3 (RGB), so the input shape becomes $250 \\times 250 \\times 3$. Grayscale or RGB only matters for the first convolutional layer, as the depth of the feature maps in subsequent layers depends on the number of kernels used.\n",
    "\n",
    "The first convolutional layer uses 32 kernels of size $3 \\times 3$, which produces 32 feature maps. The ReLU activation function is applied to introduce non-linearity:\n",
    "\n",
    "$$\n",
    "f(x) = \\max(0, x)\n",
    "$$\n",
    "\n",
    "This means:\n",
    "- Negative values are set to 0.\n",
    "- Positive values remain unchanged.\n",
    "\n",
    "After this layer, we have 32 feature maps, each sized $250 \\times 250$.\n",
    "\n",
    "A $2 \\times 2$ window is used for max pooling, which selects the highest value in each $2 \\times 2$ region. This reduces noise and makes the model less sensitive to small variations. Since max pooling halves the dimensions, the output size becomes $125 \\times 125$.\n",
    "\n",
    "This process is repeated with more convolutional layers and max pooling:\n",
    "- A second layer with 64 kernels of size $3 \\times 3$, followed by max pooling.\n",
    "- A third layer with 128 kernels of size $3 \\times 3$, followed by max pooling.\n",
    "\n",
    "### Model Summary\n",
    "\n",
    "1. 1st convolutional layer `Conv2D(32, (3, 3))`: Applies 32 kernels of size $3 \\times 3$ to the input image with dimensions $250 \\times 250 \\times 3$ (RGB). Outputs 32 feature maps, each sized $250 \\times 250$.\n",
    "<br><br>\n",
    "2. 1st max pooling layer `MaxPooling2D((2, 2))`: Reduces the dimensions by half using a $2 \\times 2$ window. Outputs 32 feature maps, each sized $125 \\times 125$.\n",
    "<br><br>\n",
    "3. 2nd convolutional layer `Conv2D(64, (3, 3))`: Applies 64 kernels of size $3 \\times 3$ to the input from the previous layer. Outputs 64 feature maps, each sized $125 \\times 125$.\n",
    "<br><br>\n",
    "4. 2nd max pooling layer `MaxPooling2D((2, 2))`: Further reduces the dimensions by half using a $2 \\times 24$ window. Outputs 64 feature maps, each sized $62 \\times 62$.\n",
    "<br><br>\n",
    "5. 3rd convolutional layer `Conv2D(128, (3, 3))`: Applies 128 kernels of size $3 \\times 3$ to the input. Outputs 128 feature maps, each sized $62 \\times 62$.\n",
    "<br><br>\n",
    "6. 3rd max pooling layer `MaxPooling2D((2, 2))`: Halves the dimensions for the final time using a $2 \\times 2$ window. Outputs 128 feature maps, each sized $31 \\times 31$.\n"
   ]
  },
  {
   "cell_type": "markdown",
   "id": "690758fe",
   "metadata": {},
   "source": [
    "## Dense Layers (`Flatten` + `Dense`)\n",
    "\n",
    "After the final layer of convolution and max pooling is done, we take the output of the final convolution + max pooling layer, which is sized $$31 \\times 31 \\times 128$$, and flatten it into a 1D vector so it can be inputted into the dense layers.\n",
    "\n",
    "`Flatten()` takes this and gives us a 1D vector of:\n",
    "\n",
    "$$\n",
    "31 \\times 31 \\times 128 = 123,008\n",
    "$$\n",
    "\n",
    "### Dense(512)\n",
    "\n",
    "The flattened 1D vector is then inputted into the first dense layer `Dense(512)`, which has 512 neurons. Each connection between the input and neurons means there are:\n",
    "\n",
    "$$\n",
    "123,008 \\times 512 = 62,974,976 \\text{ connections}\n",
    "$$\n",
    "\n",
    "Each connection has a weight ($w$), and each neuron has a bias ($b$). Therefore, the total number of parameters in this layer is:\n",
    "\n",
    "$$\n",
    "123,008 \\times 512 + 512 = 62,975,488 \\text{ parameters}\n",
    "$$\n",
    "\n",
    "Each neuron calculates a weighted sum of all its connections:\n",
    "\n",
    "$$\n",
    "z = \\sum_{i=1}^n w_i x_i + b\n",
    "$$\n",
    "\n",
    "Where:\n",
    "- $w_i$: Weight of the $i^{th}$ connection.\n",
    "- $x_i$: Input value of the $i^{th}$ connection.\n",
    "- $b$: Bias term for the neuron.\n",
    "\n",
    "The activation function for this layer is ReLU, as in the convolutional layers:\n",
    "\n",
    "$$\n",
    "f(x) = \\max(0, x)\n",
    "$$\n",
    "\n",
    "These weights and biases are updated during backpropagation to improve the model after each batch.\n",
    "\n",
    "### Dropout(0.5)\n",
    "\n",
    "After this dense layer, a dropout layer is added with a rate of 0.5. This means that during each training step, 50% of the neurons are randomly \"dropped\" (ignored), preventing the model from relying too heavily on specific neurons. This helps reduce overfitting by ensuring the model generalizes better to unseen data.\n",
    "\n",
    "---\n",
    "\n",
    "### Dense(256)\n",
    "\n",
    "The output of the previous layer, sized 512, is fed into the second dense layer `Dense(256)`, which has 256 neurons. This layer has:\n",
    "\n",
    "$$\n",
    "512 \\times 256 = 131,072 \\text{ connections}\n",
    "$$\n",
    "\n",
    "Adding biases for each neuron:\n",
    "\n",
    "$$\n",
    "512 \\times 256 + 256 = 131,328 \\text{ parameters}\n",
    "$$\n",
    "\n",
    "Again, each connection has a weight, and each neuron has a bias. The same ReLU activation function is applied, and the Dropout(0.5) layer follows this dense layer to reduce overfitting.\n",
    "\n",
    "---\n",
    "\n",
    "### Dense(128)\n",
    "\n",
    "The third dense layer `Dense(128)` takes the output of the previous layer (256 neurons) and connects it to 128 neurons. This layer has:\n",
    "\n",
    "$$\n",
    "256 \\times 128 = 32,768 \\text{ connections}\n",
    "$$\n",
    "\n",
    "Including biases:\n",
    "\n",
    "$$\n",
    "256 \\times 128 + 128 = 32,896 \\text{ parameters}\n",
    "$$\n",
    "\n",
    "ReLU is again applied as the activation function, followed by another Dropout(0.5) to help with regularization.\n",
    "\n",
    "---\n",
    "\n",
    "### Output Layer: Dense(4)\n",
    "\n",
    "Finally, the output layer `Dense(4)` connects the 128 neurons from the previous layer to 4 output neurons (for 4 classes). This layer has:\n",
    "\n",
    "$$\n",
    "128 \\times 4 = 512 \\text{ connections}\n",
    "$$\n",
    "\n",
    "Including biases for each output neuron:\n",
    "\n",
    "$$\n",
    "128 \\times 4 + 4 = 516 \\text{ parameters}\n",
    "$$\n",
    "\n",
    "The activation function here is Softmax, which converts the raw scores (logits) into probabilities:\n",
    "\n",
    "$$\n",
    "\\sigma(z_i) = \\frac{e^{z_i}}{\\sum_{j=1}^n e^{z_j}}\n",
    "$$\n",
    "\n",
    "Where:\n",
    "- $\\sigma(z_i)$: The probability for class $i$.\n",
    "- $z_i$: The raw score (logit) for class $i$.\n",
    "- $\\sum_{j=1}^n e^{z_j}$: The sum of the exponentials of all logits for $n$ classes.\n",
    "\n",
    "Softmax ensures that the probabilities sum to 1 and scales each output relative to the others. The highest probability determines the predicted class.\n",
    "\n",
    "---\n",
    "\n",
    "### Latter half model summary: Summary of Parameters\n",
    "1. Dense(512): 62,975,488 parameters  \n",
    "2. Dense(256): 131,328 parameters  \n",
    "3. Dense(128): 32,896 parameters  \n",
    "4. Dense(4): 516 parameters  \n",
    "\n",
    "Total parameters across dense layers: 63,139,228.\n"
   ]
  },
  {
   "cell_type": "code",
   "execution_count": 6,
   "id": "999764db",
   "metadata": {},
   "outputs": [
    {
     "name": "stderr",
     "output_type": "stream",
     "text": [
      "C:\\Users\\sohir\\AppData\\Roaming\\Python\\Python310\\site-packages\\keras\\src\\layers\\convolutional\\base_conv.py:107: UserWarning: Do not pass an `input_shape`/`input_dim` argument to a layer. When using Sequential models, prefer using an `Input(shape)` object as the first layer in the model instead.\n",
      "  super().__init__(activity_regularizer=activity_regularizer, **kwargs)\n"
     ]
    }
   ],
   "source": [
    "# Model architecture\n",
    "model = Sequential([\n",
    "    \n",
    "    Conv2D(32, (3, 3), activation='relu', padding='same', input_shape=(250, 250, 3)),\n",
    "    MaxPooling2D((2, 2)),\n",
    "    \n",
    "    Conv2D(64, (3, 3), activation='relu', padding='same'),\n",
    "    MaxPooling2D((2, 2)),\n",
    "    \n",
    "    Conv2D(128, (3, 3), activation='relu', padding='same'),\n",
    "    MaxPooling2D((2, 2)),\n",
    "    \n",
    "    Flatten(),\n",
    "    \n",
    "    Dense(512, activation='relu'),\n",
    "    Dropout(0.5),\n",
    "    \n",
    "    Dense(256, activation='relu'),\n",
    "    Dropout(0.5),\n",
    "    \n",
    "    Dense(128, activation='relu'),\n",
    "    Dropout(0.5),\n",
    "    \n",
    "    Dense(4, activation='softmax')  # 4 classes\n",
    "])"
   ]
  },
  {
   "cell_type": "markdown",
   "id": "b2506334",
   "metadata": {},
   "source": [
    "# Run and Assess the Model"
   ]
  },
  {
   "cell_type": "markdown",
   "id": "58188f87",
   "metadata": {},
   "source": [
    "`Learning rate = 0.001` specifies how drastically we want the model to update its parameters during optimization. A high learning rate causes the model to take large steps during parameter updates, which can lead to faster convergence but risks overshooting the optimal solution. Conversely, a low learning rate ensures smaller, more precise updates, allowing the model to converge more carefully but potentially requiring more training time to reach the optimal solution.\n",
    "\n",
    "\n",
    "We will run this for 100 epochs, but with early stopping and `patience=10`. This means the training will stop if the validation loss does not improve for 10 consecutive epochs, or when 100 epochs are completed, whichever comes first. In this case, 100 epochs serve as an upper ceiling, giving the model enough room to continue improving as much as possible before overfitting. The best model, determined by the lowest validation loss, will be stored.\n",
    "\n",
    "\n",
    "\n",
    "\n",
    "\n",
    "\n",
    "\n",
    "\n",
    "\n",
    "\n",
    "\n",
    "\n"
   ]
  },
  {
   "cell_type": "code",
   "execution_count": 7,
   "id": "f5e50e86",
   "metadata": {
    "scrolled": true
   },
   "outputs": [
    {
     "name": "stderr",
     "output_type": "stream",
     "text": [
      "C:\\Users\\sohir\\AppData\\Roaming\\Python\\Python310\\site-packages\\keras\\src\\trainers\\data_adapters\\py_dataset_adapter.py:121: UserWarning: Your `PyDataset` class should call `super().__init__(**kwargs)` in its constructor. `**kwargs` can include `workers`, `use_multiprocessing`, `max_queue_size`. Do not pass these arguments to `fit()`, as they will be ignored.\n",
      "  self._warn_if_super_not_called()\n"
     ]
    },
    {
     "name": "stdout",
     "output_type": "stream",
     "text": [
      "Epoch 1/100\n",
      "\u001b[1m154/154\u001b[0m \u001b[32m━━━━━━━━━━━━━━━━━━━━\u001b[0m\u001b[37m\u001b[0m \u001b[1m461s\u001b[0m 3s/step - accuracy: 0.4006 - loss: 1.3377 - val_accuracy: 0.7094 - val_loss: 0.7055\n",
      "Epoch 2/100\n",
      "\u001b[1m154/154\u001b[0m \u001b[32m━━━━━━━━━━━━━━━━━━━━\u001b[0m\u001b[37m\u001b[0m \u001b[1m447s\u001b[0m 3s/step - accuracy: 0.7598 - loss: 0.5817 - val_accuracy: 0.8017 - val_loss: 0.4697\n",
      "Epoch 3/100\n",
      "\u001b[1m154/154\u001b[0m \u001b[32m━━━━━━━━━━━━━━━━━━━━\u001b[0m\u001b[37m\u001b[0m \u001b[1m447s\u001b[0m 3s/step - accuracy: 0.8467 - loss: 0.3974 - val_accuracy: 0.8253 - val_loss: 0.4053\n",
      "Epoch 4/100\n",
      "\u001b[1m154/154\u001b[0m \u001b[32m━━━━━━━━━━━━━━━━━━━━\u001b[0m\u001b[37m\u001b[0m \u001b[1m447s\u001b[0m 3s/step - accuracy: 0.9068 - loss: 0.2624 - val_accuracy: 0.8940 - val_loss: 0.2532\n",
      "Epoch 5/100\n",
      "\u001b[1m154/154\u001b[0m \u001b[32m━━━━━━━━━━━━━━━━━━━━\u001b[0m\u001b[37m\u001b[0m \u001b[1m404s\u001b[0m 3s/step - accuracy: 0.9233 - loss: 0.2064 - val_accuracy: 0.9207 - val_loss: 0.2062\n",
      "Epoch 6/100\n",
      "\u001b[1m154/154\u001b[0m \u001b[32m━━━━━━━━━━━━━━━━━━━━\u001b[0m\u001b[37m\u001b[0m \u001b[1m302s\u001b[0m 2s/step - accuracy: 0.9541 - loss: 0.1323 - val_accuracy: 0.9359 - val_loss: 0.1837\n",
      "Epoch 7/100\n",
      "\u001b[1m154/154\u001b[0m \u001b[32m━━━━━━━━━━━━━━━━━━━━\u001b[0m\u001b[37m\u001b[0m \u001b[1m208s\u001b[0m 1s/step - accuracy: 0.9702 - loss: 0.0983 - val_accuracy: 0.9558 - val_loss: 0.1463\n",
      "Epoch 8/100\n",
      "\u001b[1m154/154\u001b[0m \u001b[32m━━━━━━━━━━━━━━━━━━━━\u001b[0m\u001b[37m\u001b[0m \u001b[1m202s\u001b[0m 1s/step - accuracy: 0.9804 - loss: 0.0693 - val_accuracy: 0.9512 - val_loss: 0.1747\n",
      "Epoch 9/100\n",
      "\u001b[1m154/154\u001b[0m \u001b[32m━━━━━━━━━━━━━━━━━━━━\u001b[0m\u001b[37m\u001b[0m \u001b[1m207s\u001b[0m 1s/step - accuracy: 0.9813 - loss: 0.0664 - val_accuracy: 0.9245 - val_loss: 0.2646\n",
      "Epoch 10/100\n",
      "\u001b[1m154/154\u001b[0m \u001b[32m━━━━━━━━━━━━━━━━━━━━\u001b[0m\u001b[37m\u001b[0m \u001b[1m203s\u001b[0m 1s/step - accuracy: 0.9729 - loss: 0.1001 - val_accuracy: 0.9512 - val_loss: 0.1617\n",
      "Epoch 11/100\n",
      "\u001b[1m154/154\u001b[0m \u001b[32m━━━━━━━━━━━━━━━━━━━━\u001b[0m\u001b[37m\u001b[0m \u001b[1m219s\u001b[0m 1s/step - accuracy: 0.9846 - loss: 0.0554 - val_accuracy: 0.9565 - val_loss: 0.1382\n",
      "Epoch 12/100\n",
      "\u001b[1m154/154\u001b[0m \u001b[32m━━━━━━━━━━━━━━━━━━━━\u001b[0m\u001b[37m\u001b[0m \u001b[1m185s\u001b[0m 1s/step - accuracy: 0.9930 - loss: 0.0288 - val_accuracy: 0.9565 - val_loss: 0.2369\n",
      "Epoch 13/100\n",
      "\u001b[1m154/154\u001b[0m \u001b[32m━━━━━━━━━━━━━━━━━━━━\u001b[0m\u001b[37m\u001b[0m \u001b[1m148s\u001b[0m 961ms/step - accuracy: 0.9918 - loss: 0.0322 - val_accuracy: 0.9451 - val_loss: 0.2224\n",
      "Epoch 14/100\n",
      "\u001b[1m154/154\u001b[0m \u001b[32m━━━━━━━━━━━━━━━━━━━━\u001b[0m\u001b[37m\u001b[0m \u001b[1m150s\u001b[0m 972ms/step - accuracy: 0.9891 - loss: 0.0442 - val_accuracy: 0.9558 - val_loss: 0.1942\n",
      "Epoch 15/100\n",
      "\u001b[1m154/154\u001b[0m \u001b[32m━━━━━━━━━━━━━━━━━━━━\u001b[0m\u001b[37m\u001b[0m \u001b[1m149s\u001b[0m 969ms/step - accuracy: 0.9881 - loss: 0.0368 - val_accuracy: 0.9443 - val_loss: 0.2047\n",
      "Epoch 16/100\n",
      "\u001b[1m154/154\u001b[0m \u001b[32m━━━━━━━━━━━━━━━━━━━━\u001b[0m\u001b[37m\u001b[0m \u001b[1m150s\u001b[0m 976ms/step - accuracy: 0.9953 - loss: 0.0187 - val_accuracy: 0.9611 - val_loss: 0.2180\n",
      "Epoch 17/100\n",
      "\u001b[1m154/154\u001b[0m \u001b[32m━━━━━━━━━━━━━━━━━━━━\u001b[0m\u001b[37m\u001b[0m \u001b[1m150s\u001b[0m 973ms/step - accuracy: 0.9930 - loss: 0.0258 - val_accuracy: 0.9527 - val_loss: 0.1801\n",
      "Epoch 18/100\n",
      "\u001b[1m154/154\u001b[0m \u001b[32m━━━━━━━━━━━━━━━━━━━━\u001b[0m\u001b[37m\u001b[0m \u001b[1m150s\u001b[0m 973ms/step - accuracy: 0.9941 - loss: 0.0200 - val_accuracy: 0.9588 - val_loss: 0.1939\n",
      "Epoch 19/100\n",
      "\u001b[1m154/154\u001b[0m \u001b[32m━━━━━━━━━━━━━━━━━━━━\u001b[0m\u001b[37m\u001b[0m \u001b[1m149s\u001b[0m 965ms/step - accuracy: 0.9907 - loss: 0.0380 - val_accuracy: 0.9680 - val_loss: 0.1856\n",
      "Epoch 20/100\n",
      "\u001b[1m154/154\u001b[0m \u001b[32m━━━━━━━━━━━━━━━━━━━━\u001b[0m\u001b[37m\u001b[0m \u001b[1m148s\u001b[0m 964ms/step - accuracy: 0.9977 - loss: 0.0077 - val_accuracy: 0.9603 - val_loss: 0.2354\n",
      "Epoch 21/100\n",
      "\u001b[1m154/154\u001b[0m \u001b[32m━━━━━━━━━━━━━━━━━━━━\u001b[0m\u001b[37m\u001b[0m \u001b[1m148s\u001b[0m 958ms/step - accuracy: 0.9914 - loss: 0.0252 - val_accuracy: 0.9420 - val_loss: 0.3467\n"
     ]
    }
   ],
   "source": [
    "# Compile the model\n",
    "model.compile(\n",
    "    optimizer=Adam(learning_rate=0.001),\n",
    "    loss='categorical_crossentropy',\n",
    "    metrics=['accuracy']\n",
    ")\n",
    "\n",
    "# Training callbacks\n",
    "early_stopping = EarlyStopping(monitor='val_loss', patience=10, restore_best_weights=True)\n",
    "model_checkpoint = ModelCheckpoint('best_model.keras', monitor='val_loss', save_best_only=True)\n",
    "\n",
    "# Train the model\n",
    "history = model.fit(\n",
    "    train_data,\n",
    "    validation_data=valid_data,\n",
    "    epochs=100,\n",
    "    callbacks=[early_stopping, model_checkpoint]\n",
    ")\n"
   ]
  },
  {
   "cell_type": "markdown",
   "id": "00246c41",
   "metadata": {},
   "source": [
    "## Observing Model Accuracy over epochs"
   ]
  },
  {
   "cell_type": "markdown",
   "id": "dc161e6f",
   "metadata": {},
   "source": [
    "Accuracy measures the percentage of correctly predicted samples out of the total samples. During training, training accuracy represents how well the model performs on the training data, while validation accuracy indicates how well the model generalizes to unseen data (validation set). Ideally, training and validation accuracies should increase together. If the training accuracy is high but validation accuracy stagnates or drops, it may indicate overfitting."
   ]
  },
  {
   "cell_type": "code",
   "execution_count": 8,
   "id": "994a0698",
   "metadata": {},
   "outputs": [
    {
     "data": {
      "image/png": "[encoded data removed]",
      "text/plain": [
       "<Figure size 1000x500 with 1 Axes>"
      ]
     },
     "metadata": {},
     "output_type": "display_data"
    }
   ],
   "source": [
    "# Plot training and validation accuracy/loss\n",
    "plt.figure(figsize=(10, 5))\n",
    "plt.plot(history.history['accuracy'], label='Train Accuracy')\n",
    "plt.plot(history.history['val_accuracy'], label='Validation Accuracy')\n",
    "plt.legend()\n",
    "plt.title('Model Accuracy')\n",
    "plt.show()"
   ]
  },
  {
   "cell_type": "markdown",
   "id": "4c453919",
   "metadata": {},
   "source": [
    "## Observing Model Loss over epochs"
   ]
  },
  {
   "cell_type": "markdown",
   "id": "3dfde534",
   "metadata": {},
   "source": [
    "Loss, on the other hand, is a measure of the model's error. It quantifies how far off the model's predictions are from the true values. Like accuracy, we monitor training loss and validation loss. Training loss: Represents the model's error on the training data. Validation loss: Reflects the error on unseen validation data.\n",
    "A decreasing training loss along with a decreasing validation loss suggests that the model is learning effectively. However, if the validation loss starts increasing while training loss decreases, it is a sign of overfitting, where the model performs well on the training data but struggles to generalize to new data."
   ]
  },
  {
   "cell_type": "code",
   "execution_count": 9,
   "id": "cb95ee24",
   "metadata": {},
   "outputs": [
    {
     "data": {
      "image/png": "[encoded data removed]",
      "text/plain": [
       "<Figure size 1000x500 with 1 Axes>"
      ]
     },
     "metadata": {},
     "output_type": "display_data"
    }
   ],
   "source": [
    "plt.figure(figsize=(10, 5))\n",
    "plt.plot(history.history['loss'], label='Train Loss')\n",
    "plt.plot(history.history['val_loss'], label='Validation Loss')\n",
    "plt.legend()\n",
    "plt.title('Model Loss')\n",
    "plt.show()"
   ]
  },
  {
   "cell_type": "markdown",
   "id": "ec5338f2",
   "metadata": {},
   "source": [
    "# Load & Evaluate Best Model"
   ]
  },
  {
   "cell_type": "markdown",
   "id": "0f57fa0f",
   "metadata": {},
   "source": [
    "Throughout the 21 epochs the model ran, `best_model = tf.keras.models.load_model` is used to load the best-performing model from those epochs, specifically the one with the lowest validation loss. This selection is based on the parameter we specified earlier in Section 4 while running the model: `monitor='val_loss'`. This means the model training process was designed to monitor the validation loss for each epoch and save the model that achieved the lowest validation loss as the `best_model`.\n",
    "\n",
    "Additionally, we had previously loaded the test directory `test_dir = '7022_Testing_final'`, which contains **800 unseen MRI images** (200 from each category: glioma, meningioma, no tumor, and pituitary tumor). These images have never been encountered by the model during training or validation. To evaluate the model's performance in a **real-world scenario**, we will take the `best_model` and test it on these 800 unseen images. This will allow us to assess how well the model can identify and categorize the images into the correct tumor types or \"no tumor.\"\n"
   ]
  },
  {
   "cell_type": "markdown",
   "id": "f70f6acf",
   "metadata": {},
   "source": [
    "## Accuracy, Precision, Recall & F1 Score:\n",
    "\n",
    "To better understand the model’s performance, especially for imbalanced datasets or individual categories, we analyze the model's accuracy along with its precision, recall, and the F1 score.\n",
    "\n",
    "1. **Accuracy** measures the proportion of correct predictions out of the total predictions made by the model:\n",
    "   $$\n",
    "   \\text{Accuracy} = \\frac{\\text{Number of Correct Predictions}}{\\text{Total Number of Predictions}}\n",
    "   $$\n",
    "\n",
    "   In our context, the **accuracy of .9400** means that the model correctly identified and categorized MRI images for 94 out of every 100 images it was tested on."
   ]
  },
  {
   "cell_type": "code",
   "execution_count": 10,
   "id": "d45278fa",
   "metadata": {},
   "outputs": [
    {
     "name": "stdout",
     "output_type": "stream",
     "text": [
      "\u001b[1m25/25\u001b[0m \u001b[32m━━━━━━━━━━━━━━━━━━━━\u001b[0m\u001b[37m\u001b[0m \u001b[1m7s\u001b[0m 253ms/step - accuracy: 0.9258 - loss: 0.3564\n",
      "Test Loss: 0.2714, Test Accuracy: 0.9400\n",
      "\u001b[1m25/25\u001b[0m \u001b[32m━━━━━━━━━━━━━━━━━━━━\u001b[0m\u001b[37m\u001b[0m \u001b[1m7s\u001b[0m 266ms/step\n"
     ]
    }
   ],
   "source": [
    "# Step 3: Load the Best Model and Evaluate\n",
    "import tensorflow as tf  # Import TensorFlow\n",
    "\n",
    "# Load the best model\n",
    "best_model = tf.keras.models.load_model('best_model.keras')\n",
    "\n",
    "# Evaluate on the test dataset\n",
    "test_loss, test_accuracy = best_model.evaluate(test_data)\n",
    "print(f\"Test Loss: {test_loss:.4f}, Test Accuracy: {test_accuracy:.4f}\")\n",
    "\n",
    "# Generate predictions and calculate additional metrics\n",
    "y_pred_probs = best_model.predict(test_data)  # Predicted probabilities\n",
    "y_pred = y_pred_probs.argmax(axis=1)  # Convert probabilities to class labels\n",
    "y_true = test_data.classes  # True labels"
   ]
  },
  {
   "cell_type": "markdown",
   "id": "f6fb5346",
   "metadata": {},
   "source": [
    "---\n",
    "2. **Precision** measures how many of the positively predicted instances were actually correct. It is useful for understanding the model's ability to avoid false positives:  \n",
    "   $$\n",
    "   \\text{Precision} = \\frac{\\text{True Positives}}{\\text{True Positives} + \\text{False Positives}}\n",
    "   $$\n",
    "\n",
    "   In our context, the **precision of 0.9403** indicates that when the model predicts a certain category (e.g., glioma), it is correct 94.03% of the time. This is important when false positives carry a significant cost, such as misdiagnosing a healthy individual.\n",
    "   <br>\n",
    "\n",
    "3. **Recall** (or sensitivity) measures how many of the actual positive instances were correctly identified by the model. It is useful for understanding the model's ability to avoid false negatives:\n",
    "   $$\n",
    "   \\text{Recall} = \\frac{\\text{True Positives}}{\\text{True Positives} + \\text{False Negatives}}\n",
    "   $$\n",
    "\n",
    "   In our context, the **recall of 0.9400** means that the model was able to correctly identify 94.00% of all true instances of a category (e.g., all glioma cases).  \n",
    "   <br>\n",
    "\n",
    "4. **F1 Score** is the harmonic mean of precision and recall, providing a single metric to balance these two aspects:\n",
    "   $$\n",
    "   \\text{F1 Score} = 2 \\cdot \\frac{\\text{Precision} \\cdot \\text{Recall}}{\\text{Precision} + \\text{Recall}}\n",
    "   $$\n",
    "\n",
    "   In our context, the **F1 score of 0.9395** indicates a strong balance between precision and recall. This means the model is both good at identifying positive cases (high recall) and ensuring the predictions it makes are accurate (high precision). \n",
    "   <br>"
   ]
  },
  {
   "cell_type": "code",
   "execution_count": 11,
   "id": "0e56d1eb",
   "metadata": {},
   "outputs": [
    {
     "name": "stdout",
     "output_type": "stream",
     "text": [
      "Precision: 0.9403\n",
      "Recall: 0.9400\n",
      "F1 Score: 0.9395\n"
     ]
    }
   ],
   "source": [
    "# Precision, Recall, F1 Score\n",
    "precision = precision_score(y_true, y_pred, average='weighted')\n",
    "recall = recall_score(y_true, y_pred, average='weighted')\n",
    "f1 = f1_score(y_true, y_pred, average='weighted')\n",
    "\n",
    "print(f\"Precision: {precision:.4f}\")\n",
    "print(f\"Recall: {recall:.4f}\")\n",
    "print(f\"F1 Score: {f1:.4f}\")"
   ]
  },
  {
   "cell_type": "markdown",
   "id": "5c07cc3e",
   "metadata": {},
   "source": [
    "## Challenges and Future Work\n",
    "\n",
    "### Current Performance\n",
    "The model demonstrated strong overall performance with an **accuracy of 94%** across the 800 test images. Categories like \"no tumor\"** and \"pituitary tumor\" performed exceptionally well, each achieving an F1 score of 0.96, indicating a high level of precision and recall. However, upon closer inspection, the \"meningioma\" category shows room for improvement, with a slightly lower F1 score of 0.91. This suggests that the model has some difficulty distinguishing meningioma images from other categories.\n",
    "\n",
    "The confusion matrix supports this observation, as there were **11 meningioma images misclassified as glioma** and **8 misclassified as \"no tumor\"**. These errors highlight the need to address the overlap or similarities in features between these categories.\n",
    "\n",
    "### Future Improvements\n",
    "To improve the model's performance and aim for a test accuracy closer to 97% or 98%, several steps can be taken:\n",
    "\n",
    "1. **Increase Dataset Size**  \n",
    "- Expanding the dataset with more diverse and high-quality images, particularly for categories like meningioma, can help the model learn better feature representations. This may include:\n",
    "   - Collecting more MRI images from varied sources and imaging settings.\n",
    "   - Augmenting the dataset with techniques like rotations, flips, brightness adjustments, and zooms, tailored specifically to amplify the unique features of each category.\n",
    "<br>\n",
    "2. **Class Imbalance Correction**  \n",
    "- Oversample the **meningioma** class using data augmentation or ideally adding more unique meningioma MRI to give the model more training with classifying meningioma specifically. \n",
    "   - Use class weights during model training to give more importance to underperforming classes like meningioma.\n",
    "<br>\n",
    "3. **Fine-Tuning the Model**  \n",
    "- Experiment with advanced techniques to improve the model's ability to generalize:\n",
    "   - Adjust hyperparameters such as learning rate, batch size, and number of layers.\n",
    "<br>\n",
    "4. **Improve Feature Extraction**  \n",
    "- Investigate the use of pretrained models like ResNet, Inception, or EfficientNet to leverage transfer learning. Pretrained models have already learned rich feature representations that can significantly boost performance on smaller datasets.\n",
    "<br>\n",
    "5. **Address Similarity Between Classes**  \n",
    "- Focus on distinguishing features between glioma, meningioma, and \"no tumor\" categories:\n",
    "   - Use feature visualization techniques to understand what the model is learning.\n",
    "   - Incorporate domain-specific knowledge (e.g., medical expertise) to preprocess images and highlight subtle features like tumor boundaries or textures.\n",
    "<br>\n",
    "6. **Model Ensemble Techniques**  \n",
    "- Combine predictions from multiple models (e.g., ensemble of CNNs) to improve overall performance and reduce misclassifications.\n",
    "<br>\n",
    "7. **Validate with External Datasets**  \n",
    "- Evaluate the model on external datasets from different sources to ensure robustness and generalizability. This will also help identify edge cases where the model struggles.\n",
    "\n",
    "### Contextualizing the Goal\n",
    "Improving the test accuracy from 94% to 97-98% would make the model even more reliable for real-world applications, particularly in a medical setting where misclassifications can have significant consequences. By focusing on the meningioma class and implementing the above steps, we aim to make the model more precise and robust for all categories, ensuring it can assist medical professionals effectively.\n"
   ]
  },
  {
   "cell_type": "code",
   "execution_count": 12,
   "id": "a2583f0e",
   "metadata": {},
   "outputs": [
    {
     "name": "stdout",
     "output_type": "stream",
     "text": [
      "Classification Report:\n",
      "              precision    recall  f1-score   support\n",
      "\n",
      "      glioma       0.94      0.93      0.93       200\n",
      "  meningioma       0.95      0.88      0.91       200\n",
      "     notumor       0.95      0.97      0.96       200\n",
      "   pituitary       0.93      0.99      0.96       200\n",
      "\n",
      "    accuracy                           0.94       800\n",
      "   macro avg       0.94      0.94      0.94       800\n",
      "weighted avg       0.94      0.94      0.94       800\n",
      "\n"
     ]
    }
   ],
   "source": [
    "# Classification Report\n",
    "class_labels = list(test_data.class_indices.keys())\n",
    "report = classification_report(y_true, y_pred, target_names=class_labels)\n",
    "print(\"Classification Report:\")\n",
    "print(report)"
   ]
  },
  {
   "cell_type": "code",
   "execution_count": 13,
   "id": "aa76d7e7",
   "metadata": {},
   "outputs": [
    {
     "name": "stdout",
     "output_type": "stream",
     "text": [
      "Confusion Matrix:\n",
      "[[185  10   0   5]\n",
      " [ 11 175   8   6]\n",
      " [  1   0 194   5]\n",
      " [  0   0   2 198]]\n"
     ]
    }
   ],
   "source": [
    "# Confusion Matrix\n",
    "cm = confusion_matrix(y_true, y_pred)\n",
    "print(\"Confusion Matrix:\")\n",
    "print(cm)"
   ]
  },
  {
   "cell_type": "code",
   "execution_count": 14,
   "id": "e8c00709",
   "metadata": {},
   "outputs": [
    {
     "data": {
      "image/png": "[encoded data removed]",
      "text/plain": [
       "<Figure size 800x600 with 2 Axes>"
      ]
     },
     "metadata": {},
     "output_type": "display_data"
    }
   ],
   "source": [
    "# Step 4: Visualize the Confusion Matrix\n",
    "\n",
    "plt.figure(figsize=(8, 6))\n",
    "sns.heatmap(cm, annot=True, fmt='d', cmap='Blues', xticklabels=class_labels, yticklabels=class_labels)\n",
    "plt.xlabel('Predicted Labels')\n",
    "plt.ylabel('True Labels')\n",
    "plt.title('Confusion Matrix')\n",
    "plt.show()"
   ]
  },
  {
   "cell_type": "code",
   "execution_count": null,
   "id": "ee3c8f28",
   "metadata": {},
   "outputs": [],
   "source": []
  }
 ],
 "metadata": {
  "kernelspec": {
   "display_name": "Python 3 (ipykernel)",
   "language": "python",
   "name": "python3"
  },
  "language_info": {
   "codemirror_mode": {
    "name": "ipython",
    "version": 3
   },
   "file_extension": ".py",
   "mimetype": "text/x-python",
   "name": "python",
   "nbconvert_exporter": "python",
   "pygments_lexer": "ipython3",
   "version": "3.10.14"
  },
  "toc": {
   "base_numbering": 1,
   "nav_menu": {},
   "number_sections": true,
   "sideBar": true,
   "skip_h1_title": false,
   "title_cell": "Table of Contents",
   "title_sidebar": "Contents",
   "toc_cell": false,
   "toc_position": {},
   "toc_section_display": true,
   "toc_window_display": false
  }
 },
 "nbformat": 4,
 "nbformat_minor": 5
}
